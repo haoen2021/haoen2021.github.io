{
 "cells": [
  {
   "cell_type": "markdown",
   "id": "fb353a5d",
   "metadata": {},
   "source": [
    "+ 五点Gauss-Legendre求积公式\n",
    "\n",
    "  查表可以得到在$[-1,1]$上积分的格式如下：\n",
    "\n",
    "  节点：$0,\\pm\\frac{1}{3}\\sqrt{5-2\\sqrt{\\frac{10}{7}}},\\pm\\frac{1}{3}\\sqrt{5+2\\sqrt{\\frac{10}{7}}}$\n",
    "\n",
    "  权重：$\\frac{128}{225},\\frac{332+13\\sqrt{70}}{900},\\frac{332-13\\sqrt{70}}{900}$\n",
    "\n",
    "  实际使用时，我们先对$[a,b]$上的积分做变换：\n",
    "  $$\n",
    "  \\begin{align*}\n",
    "  \\int_a^b f(x)\\mathrm{d} x =\\frac{b-a}{2}\\int_{-1}^1 f\\left(s\\left(\\frac{b-a}{2}\\right)+\\frac{b+a}{2}\\right)\\mathrm{d} s\n",
    "  \\end{align*}\n",
    "  $$\n",
    "+ Romberg积分算法\n",
    "    \n",
    "   Romberg积分按照下面几个过程进行：首先求出$T_0^{(0)} =\\frac{h}{2}[f(a)+f(b)]$；然后求梯形值$T_0(\\frac{b-a}{2^k})$，也就是按照递推公式$T_{2n}=\\frac{1}{2}T_n+\\frac{h}{2}\\sum_{k=0}^{n-1}f(x_{k+1/2})$计算每个$T_0^{(k)}$；随后用Richardson外推公式：\n",
    "   $$\n",
    "   \\begin{align*}\n",
    "   T_m^{(k)} = \\frac{4^m}{4^m-1}T_{m-1}^{(k+1)}-\\frac{1}{4^m-1}T_{m-1}^{(k)},\n",
    "   \\end{align*}\n",
    "   $$\n",
    "   逐个计算可求出$T$表的第$k$行的每个元素$T_j^{(k-j)}$，$j=1,2,\\cdots$.\n",
    "   \n",
    "   最后，依据$|T^{(0)}_k-T_{k-1}^{(0)}|<\\varepsilon$，则终止计算，并$T_k^{(0)}\\approx I$，否则$k+1\\to k$继续计算."
   ]
  },
  {
   "cell_type": "code",
   "execution_count": 33,
   "id": "dec2237b",
   "metadata": {},
   "outputs": [
    {
     "name": "stdout",
     "output_type": "stream",
     "text": [
      "==========5-point Gauss-Legendre==========\n",
      "quadrature = -0.2387323403436461\n",
      "==========Romberg==========\n",
      "quadrature = -0.23873241462162365\n"
     ]
    }
   ],
   "source": [
    "import numpy as np\n",
    "\n",
    "def func(x):\n",
    "    return (1/(x**2))*np.sin(2*np.pi/x)\n",
    "\n",
    "########5-point Gauss-Legendre quadrature########\n",
    "points = [0, (1/3)*np.sqrt(5-2*np.sqrt(10/7)), -(1/3)*np.sqrt(5-2*np.sqrt(10/7)),\\\n",
    "             (1/3)*np.sqrt(5+2*np.sqrt(10/7)), -(1/3)*np.sqrt(5+2*np.sqrt(10/7))]\n",
    "weights = [128/225, (322+13*np.sqrt(70))/900, (322+13*np.sqrt(70))/900, (322-13*np.sqrt(70))/900, (322-13*np.sqrt(70))/900]\n",
    "def GL5(fun, a, b):\n",
    "    fi = [((b-a)/2)*func(xi*((b-a)/2)+(b+a)/2) for xi in points]\n",
    "    return np.array(fi)@np.array(weights)\n",
    "complex_5GL = GL5(func, 1, 1.5)+GL5(func, 1.5, 2)+GL5(func, 2, 2.5)+GL5(func, 2.5, 3)\n",
    "print(\"=\"*10+\"5-point Gauss-Legendre\"+\"=\"*10)\n",
    "print(\"quadrature = {}\".format(complex_5GL))\n",
    "\n",
    "########Romberg quadrature########\n",
    "def Trap(fun, a, b, Iold, k):\n",
    "    if k == 1:\n",
    "        Inew = (fun(a)+fun(b))*(b-a)/2\n",
    "    else:\n",
    "        n = 2**(k-2)\n",
    "        h = (b-a)/n \n",
    "        x = a+(h/2)\n",
    "        sum_k = 0\n",
    "        for i in range(n):\n",
    "            sum_k = sum_k + fun(x)\n",
    "            x = x + h\n",
    "        Inew = (Iold+h*sum_k)/2\n",
    "    return Inew\n",
    "\n",
    "def Richardson(R,k):\n",
    "    for i in range(k-1,0,-1):\n",
    "        c = 2**(2*(k-i))\n",
    "        R[i] = (c*R[i+1]-R[i])/(c-1) \n",
    "    return R\n",
    "\n",
    "def romberg(f, a, b, eps=1e-7):\n",
    "    T = {}\n",
    "    k = 1\n",
    "    T[1] = Trap(f,a,b,0.0,1)\n",
    "    former_R = T[1]\n",
    "    while True:\n",
    "        k += 1\n",
    "        T[k] = Trap(f,a,b,T[k-1],k)\n",
    "        T = Richardson(T,k)\n",
    "        if abs(T[1] - former_R) < eps:\n",
    "            return T[1]\n",
    "        former_R = T[1]\n",
    "        \n",
    "romberg_quad = romberg(func, 1, 3) \n",
    "print(\"=\"*10+\"Romberg\"+\"=\"*10)\n",
    "print(\"quadrature = {}\".format(romberg_quad))"
   ]
  },
  {
   "cell_type": "code",
   "execution_count": null,
   "id": "8603ac60",
   "metadata": {},
   "outputs": [],
   "source": []
  }
 ],
 "metadata": {
  "kernelspec": {
   "display_name": "Python 3 (ipykernel)",
   "language": "python",
   "name": "python3"
  },
  "language_info": {
   "codemirror_mode": {
    "name": "ipython",
    "version": 3
   },
   "file_extension": ".py",
   "mimetype": "text/x-python",
   "name": "python",
   "nbconvert_exporter": "python",
   "pygments_lexer": "ipython3",
   "version": "3.9.13"
  }
 },
 "nbformat": 4,
 "nbformat_minor": 5
}
